{
  "nbformat": 4,
  "nbformat_minor": 0,
  "metadata": {
    "colab": {
      "provenance": [],
      "authorship_tag": "ABX9TyM/r1UKC6cMSXDazLVCnQ+i",
      "include_colab_link": true
    },
    "kernelspec": {
      "name": "python3",
      "display_name": "Python 3"
    },
    "language_info": {
      "name": "python"
    }
  },
  "cells": [
    {
      "cell_type": "markdown",
      "metadata": {
        "id": "view-in-github",
        "colab_type": "text"
      },
      "source": [
        "<a href=\"https://colab.research.google.com/github/KarolinaMichalak/Python_lab/blob/master/lab2task2.ipynb\" target=\"_parent\"><img src=\"https://colab.research.google.com/assets/colab-badge.svg\" alt=\"Open In Colab\"/></a>"
      ]
    },
    {
      "cell_type": "code",
      "execution_count": 12,
      "metadata": {
        "id": "BAwhlU_NQlQ2"
      },
      "outputs": [],
      "source": [
        "list = [1, 2, 3]"
      ]
    },
    {
      "cell_type": "code",
      "source": [
        "!git branch for_variant\n",
        "\n",
        "list = [1, 2, 3]\n",
        "\n",
        "for i in list:\n",
        "  !echo \"i\" >> LISTA.md\n",
        "\n",
        "!git add LISTA.md\n",
        "!git commit -m \"add the content from the list to branch for_variant\""
      ],
      "metadata": {
        "colab": {
          "base_uri": "https://localhost:8080/"
        },
        "id": "__JP-LZ7R7sf",
        "outputId": "25b20d31-f2df-4ff5-9271-54ccff121283"
      },
      "execution_count": 13,
      "outputs": [
        {
          "output_type": "stream",
          "name": "stdout",
          "text": [
            "fatal: not a git repository (or any of the parent directories): .git\n",
            "fatal: not a git repository (or any of the parent directories): .git\n",
            "fatal: not a git repository (or any of the parent directories): .git\n"
          ]
        }
      ]
    },
    {
      "cell_type": "code",
      "source": [],
      "metadata": {
        "id": "sXdRwPIZXQJP"
      },
      "execution_count": null,
      "outputs": []
    }
  ]
}